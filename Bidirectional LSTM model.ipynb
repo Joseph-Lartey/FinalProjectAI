{
  "nbformat": 4,
  "nbformat_minor": 0,
  "metadata": {
    "colab": {
      "provenance": []
    },
    "kernelspec": {
      "name": "python3",
      "display_name": "Python 3"
    },
    "language_info": {
      "name": "python"
    }
  },
  "cells": [
    {
      "cell_type": "code",
      "source": [
        "!pip install scikeras"
      ],
      "metadata": {
        "colab": {
          "base_uri": "https://localhost:8080/"
        },
        "id": "s3rDLqjQUDad",
        "outputId": "ad7f76cb-343b-45f2-d0cb-0b8396cdad6e"
      },
      "execution_count": null,
      "outputs": [
        {
          "output_type": "stream",
          "name": "stdout",
          "text": [
            "Requirement already satisfied: scikeras in /usr/local/lib/python3.10/dist-packages (0.12.0)\n",
            "Requirement already satisfied: packaging>=0.21 in /usr/local/lib/python3.10/dist-packages (from scikeras) (23.2)\n",
            "Requirement already satisfied: scikit-learn>=1.0.0 in /usr/local/lib/python3.10/dist-packages (from scikeras) (1.2.2)\n",
            "Requirement already satisfied: numpy>=1.17.3 in /usr/local/lib/python3.10/dist-packages (from scikit-learn>=1.0.0->scikeras) (1.23.5)\n",
            "Requirement already satisfied: scipy>=1.3.2 in /usr/local/lib/python3.10/dist-packages (from scikit-learn>=1.0.0->scikeras) (1.11.4)\n",
            "Requirement already satisfied: joblib>=1.1.1 in /usr/local/lib/python3.10/dist-packages (from scikit-learn>=1.0.0->scikeras) (1.3.2)\n",
            "Requirement already satisfied: threadpoolctl>=2.0.0 in /usr/local/lib/python3.10/dist-packages (from scikit-learn>=1.0.0->scikeras) (3.2.0)\n"
          ]
        }
      ]
    },
    {
      "cell_type": "code",
      "execution_count": null,
      "metadata": {
        "id": "7aZhEXURveBy"
      },
      "outputs": [],
      "source": [
        "import pandas as pd\n",
        "import tensorflow as tf\n",
        "from sklearn.pipeline import Pipeline\n",
        "from sklearn.metrics import accuracy_score\n",
        "from scikeras.wrappers import KerasClassifier\n",
        "from tensorflow.keras.models import Sequential\n",
        "from sklearn.model_selection import GridSearchCV\n",
        "from tensorflow.keras.utils import to_categorical\n",
        "from sklearn.model_selection import train_test_split\n",
        "from tensorflow.keras.preprocessing.text import Tokenizer\n",
        "from sklearn.feature_extraction.text import TfidfVectorizer\n",
        "from tensorflow.keras.preprocessing.sequence import pad_sequences\n",
        "from tensorflow.keras.layers import Embedding, Bidirectional, LSTM, Dense, SpatialDropout1D"
      ]
    },
    {
      "cell_type": "code",
      "source": [
        "from google.colab import drive\n",
        "drive.mount(\"/content/drive\")"
      ],
      "metadata": {
        "colab": {
          "base_uri": "https://localhost:8080/"
        },
        "id": "EZNiZXSfvkyl",
        "outputId": "170b4387-de88-4b09-f5f3-509efc5ea083"
      },
      "execution_count": null,
      "outputs": [
        {
          "output_type": "stream",
          "name": "stdout",
          "text": [
            "Drive already mounted at /content/drive; to attempt to forcibly remount, call drive.mount(\"/content/drive\", force_remount=True).\n"
          ]
        }
      ]
    },
    {
      "cell_type": "code",
      "source": [
        "# Load your dataset\n",
        "spam_data = pd.read_csv(\"/content/drive/MyDrive/Colab Notebooks/AI Final Project Work/combined_data.csv\")"
      ],
      "metadata": {
        "id": "QP4ygnTivkvL"
      },
      "execution_count": null,
      "outputs": []
    },
    {
      "cell_type": "code",
      "source": [
        "labels = spam_data[\"label\"]\n",
        "messages = spam_data[\"text\"]"
      ],
      "metadata": {
        "id": "0010u8cDTiEm"
      },
      "execution_count": null,
      "outputs": []
    },
    {
      "cell_type": "code",
      "source": [
        "# Tokenize the messages\n",
        "tokenizer = Tokenizer()\n",
        "tokenizer.fit_on_texts(messages)\n",
        "vocab_size = len(tokenizer.word_index) + 1"
      ],
      "metadata": {
        "id": "YFm43J59vkpA"
      },
      "execution_count": null,
      "outputs": []
    },
    {
      "cell_type": "code",
      "source": [
        "# Convert messages to sequences\n",
        "sequences = tokenizer.texts_to_sequences(messages)"
      ],
      "metadata": {
        "id": "BByG8DKevklk"
      },
      "execution_count": null,
      "outputs": []
    },
    {
      "cell_type": "code",
      "source": [
        "# Paddng and truncating all sequences to the same length\n",
        "max_sequence_len = 30\n",
        "padded_sequences = pad_sequences(sequences, max_sequence_len)"
      ],
      "metadata": {
        "id": "DOBjNhh8vkjP"
      },
      "execution_count": null,
      "outputs": []
    },
    {
      "cell_type": "code",
      "source": [
        "X_data = padded_sequences\n",
        "Y_data = labels"
      ],
      "metadata": {
        "id": "uSYgGj_Svkg6"
      },
      "execution_count": null,
      "outputs": []
    },
    {
      "cell_type": "code",
      "source": [
        "# Splitting dataset: 20% trainnig 80% testing\n",
        "X_train, X_test, Y_train, Y_test = train_test_split(X_data, Y_data, test_size = 0.2, random_state = 42)"
      ],
      "metadata": {
        "id": "j-yg83Elvkea"
      },
      "execution_count": null,
      "outputs": []
    },
    {
      "cell_type": "code",
      "source": [
        "# Number of categories (Span or Not Spam)\n",
        "num_classes = 2"
      ],
      "metadata": {
        "id": "tMmL84ATvkcL"
      },
      "execution_count": null,
      "outputs": []
    },
    {
      "cell_type": "code",
      "source": [
        "# Size of vector representation of each word\n",
        "embedding_dim = 100"
      ],
      "metadata": {
        "id": "sU0-q0R9vkZn"
      },
      "execution_count": null,
      "outputs": []
    },
    {
      "cell_type": "code",
      "source": [
        "# Defining the Bidirectional model\n",
        "model = Sequential()\n",
        "model.add(Embedding(input_dim = vocab_size, output_dim = embedding_dim, input_length = max_sequence_len))\n",
        "model.add(Bidirectional(LSTM(units = 64, return_sequences = True)))\n",
        "model.add(LSTM(units = 32, return_sequences = True))\n",
        "model.add(LSTM(units = 16))\n",
        "model.add(Dense(units = num_classes, activation = \"sigmoid\"))  # Changed to softmax for multi-class classification"
      ],
      "metadata": {
        "id": "E6mX10S1vkXN"
      },
      "execution_count": null,
      "outputs": []
    },
    {
      "cell_type": "code",
      "source": [
        "# Compile the model\n",
        "model.compile(optimizer = \"adam\", loss = \"binary_crossentropy\", metrics = [\"accuracy\"])\n",
        "model.summary()"
      ],
      "metadata": {
        "colab": {
          "base_uri": "https://localhost:8080/"
        },
        "id": "p5HbU_IQvkVA",
        "outputId": "e7f0402f-cf80-48ec-feaf-7d532df8e1db"
      },
      "execution_count": null,
      "outputs": [
        {
          "output_type": "stream",
          "name": "stdout",
          "text": [
            "Model: \"sequential_78\"\n",
            "_________________________________________________________________\n",
            " Layer (type)                Output Shape              Param #   \n",
            "=================================================================\n",
            " embedding_78 (Embedding)    (None, 30, 100)           32358500  \n",
            "                                                                 \n",
            " bidirectional_78 (Bidirect  (None, 30, 128)           84480     \n",
            " ional)                                                          \n",
            "                                                                 \n",
            " lstm_235 (LSTM)             (None, 30, 32)            20608     \n",
            "                                                                 \n",
            " lstm_236 (LSTM)             (None, 16)                3136      \n",
            "                                                                 \n",
            " dense_78 (Dense)            (None, 2)                 34        \n",
            "                                                                 \n",
            "=================================================================\n",
            "Total params: 32466758 (123.85 MB)\n",
            "Trainable params: 32466758 (123.85 MB)\n",
            "Non-trainable params: 0 (0.00 Byte)\n",
            "_________________________________________________________________\n"
          ]
        }
      ]
    },
    {
      "cell_type": "code",
      "source": [
        "# Convert labels to categorical format\n",
        "Y_train_categorical = to_categorical(Y_train, num_classes)\n",
        "Y_test_categorical = to_categorical(Y_test, num_classes)"
      ],
      "metadata": {
        "id": "Hj0QdL_0vkSU"
      },
      "execution_count": null,
      "outputs": []
    },
    {
      "cell_type": "code",
      "source": [
        "# Training the model\n",
        "BD_model = model.fit(X_train, Y_train_categorical, epochs = 1, batch_size = 32, validation_data = (X_test, Y_test_categorical))"
      ],
      "metadata": {
        "colab": {
          "base_uri": "https://localhost:8080/"
        },
        "id": "t96JpYg5wFBi",
        "outputId": "30a6da17-2058-4689-b765-34b1e1209ffa"
      },
      "execution_count": null,
      "outputs": [
        {
          "output_type": "stream",
          "name": "stdout",
          "text": [
            "2087/2087 [==============================] - 1956s 933ms/step - loss: 0.1086 - accuracy: 0.9598 - val_loss: 0.0629 - val_accuracy: 0.9772\n"
          ]
        }
      ]
    },
    {
      "cell_type": "code",
      "source": [
        "def create_model(units = 32, dropout_rate = 0.2):\n",
        "    model = Sequential()\n",
        "    model.add(Embedding(input_dim = vocab_size, output_dim = embedding_dim, input_length = max_sequence_len))\n",
        "    model.add(Bidirectional(LSTM(units = 64, return_sequences = True)))\n",
        "    model.add(LSTM(units = 32, return_sequences = True))\n",
        "    model.add(LSTM(units = 16))\n",
        "    model.add(Dense(units = num_classes, activation = \"sigmoid\"))\n",
        "    model.compile(optimizer = \"adam\", loss = \"binary_crossentropy\", metrics = [\"accuracy\"])\n",
        "    return model"
      ],
      "metadata": {
        "id": "vxlzAkk6YGLP"
      },
      "execution_count": null,
      "outputs": []
    },
    {
      "cell_type": "code",
      "source": [
        "model = KerasClassifier(build_fn = create_model, epochs = 1, batch_size = 32, verbose = 1, units = 32, dropout_rate = 0.2)"
      ],
      "metadata": {
        "id": "5sp3J462YsQa"
      },
      "execution_count": null,
      "outputs": []
    },
    {
      "cell_type": "code",
      "source": [
        "text_clf = Pipeline([\n",
        "    ('tfidf', TfidfVectorizer()),\n",
        "    ('clf_keras', model)\n",
        "])"
      ],
      "metadata": {
        "id": "rwFgttd0Z53s"
      },
      "execution_count": null,
      "outputs": []
    },
    {
      "cell_type": "code",
      "source": [
        "# Define the hyperparameter grid\n",
        "param_grid = {\n",
        "    \"units\": [32, 64],\n",
        "    \"dropout_rate\": [0.2, 0.4]\n",
        "}"
      ],
      "metadata": {
        "id": "Fz-zzOnxTUg9"
      },
      "execution_count": null,
      "outputs": []
    },
    {
      "cell_type": "code",
      "source": [
        "# Create StratifiedKFold object\n",
        "grid_search = GridSearchCV(estimator = model , param_grid = param_grid, scoring = \"accuracy\", cv = 3, verbose = 1)"
      ],
      "metadata": {
        "id": "jvsQiJROVjb6"
      },
      "execution_count": null,
      "outputs": []
    },
    {
      "cell_type": "code",
      "source": [
        "# Create GridSearchCV object\n",
        "grid_result = grid_search.fit(X_train, Y_train_categorical)"
      ],
      "metadata": {
        "colab": {
          "base_uri": "https://localhost:8080/"
        },
        "id": "u3BHVUErXPqd",
        "outputId": "db06ed12-d701-4af2-f89f-dde89bcda05f"
      },
      "execution_count": null,
      "outputs": [
        {
          "output_type": "stream",
          "name": "stdout",
          "text": [
            "Fitting 3 folds for each of 4 candidates, totalling 12 fits\n"
          ]
        },
        {
          "output_type": "stream",
          "name": "stderr",
          "text": [
            "/usr/local/lib/python3.10/dist-packages/scikeras/wrappers.py:915: UserWarning: ``build_fn`` will be renamed to ``model`` in a future release, at which point use of ``build_fn`` will raise an Error instead.\n",
            "  X, y = self._initialize(X, y)\n"
          ]
        },
        {
          "output_type": "stream",
          "name": "stdout",
          "text": [
            "1391/1391 [==============================] - 1275s 910ms/step - loss: 0.1255 - accuracy: 0.9540\n",
            "696/696 [==============================] - 17s 22ms/step\n"
          ]
        },
        {
          "output_type": "stream",
          "name": "stderr",
          "text": [
            "/usr/local/lib/python3.10/dist-packages/scikeras/wrappers.py:915: UserWarning: ``build_fn`` will be renamed to ``model`` in a future release, at which point use of ``build_fn`` will raise an Error instead.\n",
            "  X, y = self._initialize(X, y)\n"
          ]
        },
        {
          "output_type": "stream",
          "name": "stdout",
          "text": [
            "1391/1391 [==============================] - 1260s 900ms/step - loss: 0.1219 - accuracy: 0.9544\n",
            "696/696 [==============================] - 17s 22ms/step\n"
          ]
        },
        {
          "output_type": "stream",
          "name": "stderr",
          "text": [
            "/usr/local/lib/python3.10/dist-packages/scikeras/wrappers.py:915: UserWarning: ``build_fn`` will be renamed to ``model`` in a future release, at which point use of ``build_fn`` will raise an Error instead.\n",
            "  X, y = self._initialize(X, y)\n"
          ]
        },
        {
          "output_type": "stream",
          "name": "stdout",
          "text": [
            "1391/1391 [==============================] - 1269s 905ms/step - loss: 0.1250 - accuracy: 0.9541\n",
            "696/696 [==============================] - 17s 21ms/step\n"
          ]
        },
        {
          "output_type": "stream",
          "name": "stderr",
          "text": [
            "/usr/local/lib/python3.10/dist-packages/scikeras/wrappers.py:915: UserWarning: ``build_fn`` will be renamed to ``model`` in a future release, at which point use of ``build_fn`` will raise an Error instead.\n",
            "  X, y = self._initialize(X, y)\n"
          ]
        },
        {
          "output_type": "stream",
          "name": "stdout",
          "text": [
            "1391/1391 [==============================] - 1303s 930ms/step - loss: 0.1218 - accuracy: 0.9557\n",
            "696/696 [==============================] - 20s 25ms/step\n"
          ]
        },
        {
          "output_type": "stream",
          "name": "stderr",
          "text": [
            "/usr/local/lib/python3.10/dist-packages/scikeras/wrappers.py:915: UserWarning: ``build_fn`` will be renamed to ``model`` in a future release, at which point use of ``build_fn`` will raise an Error instead.\n",
            "  X, y = self._initialize(X, y)\n"
          ]
        },
        {
          "output_type": "stream",
          "name": "stdout",
          "text": [
            "1391/1391 [==============================] - 1379s 984ms/step - loss: 0.1234 - accuracy: 0.9542\n",
            "696/696 [==============================] - 18s 23ms/step\n"
          ]
        },
        {
          "output_type": "stream",
          "name": "stderr",
          "text": [
            "/usr/local/lib/python3.10/dist-packages/scikeras/wrappers.py:915: UserWarning: ``build_fn`` will be renamed to ``model`` in a future release, at which point use of ``build_fn`` will raise an Error instead.\n",
            "  X, y = self._initialize(X, y)\n"
          ]
        },
        {
          "output_type": "stream",
          "name": "stdout",
          "text": [
            "1391/1391 [==============================] - 1337s 953ms/step - loss: 0.1239 - accuracy: 0.9551\n",
            "696/696 [==============================] - 19s 25ms/step\n"
          ]
        },
        {
          "output_type": "stream",
          "name": "stderr",
          "text": [
            "/usr/local/lib/python3.10/dist-packages/scikeras/wrappers.py:915: UserWarning: ``build_fn`` will be renamed to ``model`` in a future release, at which point use of ``build_fn`` will raise an Error instead.\n",
            "  X, y = self._initialize(X, y)\n"
          ]
        },
        {
          "output_type": "stream",
          "name": "stdout",
          "text": [
            "1391/1391 [==============================] - 1284s 916ms/step - loss: 0.1186 - accuracy: 0.9558\n",
            "696/696 [==============================] - 18s 23ms/step\n"
          ]
        },
        {
          "output_type": "stream",
          "name": "stderr",
          "text": [
            "/usr/local/lib/python3.10/dist-packages/scikeras/wrappers.py:915: UserWarning: ``build_fn`` will be renamed to ``model`` in a future release, at which point use of ``build_fn`` will raise an Error instead.\n",
            "  X, y = self._initialize(X, y)\n"
          ]
        },
        {
          "output_type": "stream",
          "name": "stdout",
          "text": [
            "1391/1391 [==============================] - 1310s 933ms/step - loss: 0.1213 - accuracy: 0.9557\n",
            "696/696 [==============================] - 19s 24ms/step\n"
          ]
        },
        {
          "output_type": "stream",
          "name": "stderr",
          "text": [
            "/usr/local/lib/python3.10/dist-packages/scikeras/wrappers.py:915: UserWarning: ``build_fn`` will be renamed to ``model`` in a future release, at which point use of ``build_fn`` will raise an Error instead.\n",
            "  X, y = self._initialize(X, y)\n"
          ]
        },
        {
          "output_type": "stream",
          "name": "stdout",
          "text": [
            "1391/1391 [==============================] - 1274s 909ms/step - loss: 0.1240 - accuracy: 0.9538\n",
            "696/696 [==============================] - 17s 22ms/step\n"
          ]
        },
        {
          "output_type": "stream",
          "name": "stderr",
          "text": [
            "/usr/local/lib/python3.10/dist-packages/scikeras/wrappers.py:915: UserWarning: ``build_fn`` will be renamed to ``model`` in a future release, at which point use of ``build_fn`` will raise an Error instead.\n",
            "  X, y = self._initialize(X, y)\n"
          ]
        },
        {
          "output_type": "stream",
          "name": "stdout",
          "text": [
            "1391/1391 [==============================] - 1413s 1s/step - loss: 0.1277 - accuracy: 0.9538\n",
            "696/696 [==============================] - 19s 24ms/step\n"
          ]
        },
        {
          "output_type": "stream",
          "name": "stderr",
          "text": [
            "/usr/local/lib/python3.10/dist-packages/scikeras/wrappers.py:915: UserWarning: ``build_fn`` will be renamed to ``model`` in a future release, at which point use of ``build_fn`` will raise an Error instead.\n",
            "  X, y = self._initialize(X, y)\n"
          ]
        },
        {
          "output_type": "stream",
          "name": "stdout",
          "text": [
            "1391/1391 [==============================] - 1404s 1s/step - loss: 0.1227 - accuracy: 0.9554\n",
            "696/696 [==============================] - 17s 23ms/step\n"
          ]
        },
        {
          "output_type": "stream",
          "name": "stderr",
          "text": [
            "/usr/local/lib/python3.10/dist-packages/scikeras/wrappers.py:915: UserWarning: ``build_fn`` will be renamed to ``model`` in a future release, at which point use of ``build_fn`` will raise an Error instead.\n",
            "  X, y = self._initialize(X, y)\n"
          ]
        },
        {
          "output_type": "stream",
          "name": "stdout",
          "text": [
            "1391/1391 [==============================] - 1462s 1s/step - loss: 0.1230 - accuracy: 0.9548\n",
            "696/696 [==============================] - 18s 24ms/step\n"
          ]
        },
        {
          "output_type": "stream",
          "name": "stderr",
          "text": [
            "/usr/local/lib/python3.10/dist-packages/scikeras/wrappers.py:915: UserWarning: ``build_fn`` will be renamed to ``model`` in a future release, at which point use of ``build_fn`` will raise an Error instead.\n",
            "  X, y = self._initialize(X, y)\n"
          ]
        },
        {
          "output_type": "stream",
          "name": "stdout",
          "text": [
            "1409/2087 [===================>..........] - ETA: 10:55 - loss: 0.1236 - accuracy: 0.9543"
          ]
        }
      ]
    },
    {
      "cell_type": "code",
      "source": [
        "# Get the best parameters\n",
        "best_parameters = grid_result.best_params_\n",
        "best_parameters"
      ],
      "metadata": {
        "id": "dILUI5dKXPeU"
      },
      "execution_count": null,
      "outputs": []
    },
    {
      "cell_type": "code",
      "source": [
        "\n",
        "Y_pred = spam_model.predict(X_test)\n",
        "accuracy = accuracy_score(Y_test_categorical, Y_pred)\n",
        "print(f\"Best parameters: {best_parameters}\")\n",
        "print(f\"Accuracy test: {accuracy}\")\n",
        "\n",
        "# ALTERNATIVE\n",
        "# accuracy = grid_result.score(X_test, Y_test)\n",
        "# print(f\"Best parameters: {best_parameters}\")\n",
        "# print(f\"Accuracy test: {accuracy}\")"
      ],
      "metadata": {
        "id": "bB8wtfqBwOys"
      },
      "execution_count": null,
      "outputs": []
    },
    {
      "cell_type": "code",
      "source": [
        "spam_model = grid_result.best_estimator_"
      ],
      "metadata": {
        "id": "MuC3si4pvZpC"
      },
      "execution_count": null,
      "outputs": []
    },
    {
      "cell_type": "code",
      "source": [
        "spam_model.fit(X_train, Y_train, validation_data = (X_test, Y_test))\n",
        "\n",
        "# ALTERNATIVE\n",
        "# Delete the code above"
      ],
      "metadata": {
        "id": "NawiuWHTXPZD"
      },
      "execution_count": null,
      "outputs": []
    },
    {
      "cell_type": "code",
      "source": [
        "# Save the entire model to a file\n",
        "model.save(\"/content/drive/MyDrive/Colab Notebooks/AI Final Project Work/spam_model.h5\")"
      ],
      "metadata": {
        "colab": {
          "base_uri": "https://localhost:8080/"
        },
        "id": "pgCtN1ikxGCj",
        "outputId": "f937c4b8-bb4f-4cea-a3f7-8e407c4aea01"
      },
      "execution_count": null,
      "outputs": [
        {
          "output_type": "stream",
          "name": "stderr",
          "text": [
            "/usr/local/lib/python3.10/dist-packages/keras/src/engine/training.py:3079: UserWarning: You are saving your model as an HDF5 file via `model.save()`. This file format is considered legacy. We recommend using instead the native Keras format, e.g. `model.save('my_model.keras')`.\n",
            "  saving_api.save_model(\n"
          ]
        }
      ]
    },
    {
      "cell_type": "code",
      "source": [
        "# Saving the trained model\n",
        "model.save(\"spam_model.h5\")"
      ],
      "metadata": {
        "id": "ZO4q6IpVNRxc"
      },
      "execution_count": null,
      "outputs": []
    }
  ]
}